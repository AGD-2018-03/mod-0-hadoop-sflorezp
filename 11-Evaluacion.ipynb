{
 "cells": [
  {
   "cell_type": "markdown",
   "metadata": {},
   "source": [
    "**Recuerde no agregar o quitar celdas en este notebook, ni modificar su tipo. Si lo hace, el sistema automaticamente lo calificará con cero punto cero (0.0)**"
   ]
  },
  {
   "cell_type": "markdown",
   "metadata": {},
   "source": [
    "Obtenga las letras asociadas a cada clave para el siguiente archivo."
   ]
  },
  {
   "cell_type": "code",
   "execution_count": 1,
   "metadata": {},
   "outputs": [
    {
     "name": "stdout",
     "output_type": "stream",
     "text": [
      "Overwriting input.txt\n"
     ]
    }
   ],
   "source": [
    "%%writefile input.txt\n",
    "0 \t C,F,A,B,D,I,H\n",
    "1 \t A,H,C,I,F,D,B\n",
    "2 \t B,H,I,F,G\n",
    "3 \t C,B,D\n",
    "4 \t D,C,I,G,H\n",
    "5 \t B,D,C,H,A\n",
    "6 \t H,D,C,B,G,F,D\n",
    "7 \t F,A,G,C,B,D,H,I\n",
    "8 \t F,A,I,B,D\n",
    "9 \t F,A,B,D,C,D,G,I\n",
    "10 \t D,B,A,C,H\n",
    "11 \t G,D,B,H,I,C,F\n",
    "12 \t D,D,C,F,B,A,H,G\n",
    "13 \t F,A,D\n",
    "14 \t D,A,C,G\n",
    "15 \t H,A,F,D,B,C,G,I\n",
    "16 \t A,I,B,D\n",
    "17 \t C,B,G,A,D,H,F\n",
    "18 \t I,B,A,H,D,F\n",
    "19 \t B,D,F,D,I\n",
    "20 \t C,B,H,F,I,G,D,D\n",
    "21 \t F,A,B,C,G,D\n",
    "22 \t I,G,F,C,H,B\n",
    "23 \t H,F,C,B,D,D,A\n",
    "24 \t F,D,G,A,H\n",
    "25 \t G,H,B,C,A,F,I\n",
    "26 \t G,F,B,A,H,D,D,I\n",
    "27 \t B,A,H,I,D,G,F\n",
    "28 \t A,H,D,F,C\n",
    "29 \t C,D,A,F,G,B,H,D"
   ]
  },
  {
   "cell_type": "markdown",
   "metadata": {},
   "source": [
    "## Mapper"
   ]
  },
  {
   "cell_type": "code",
   "execution_count": 2,
   "metadata": {},
   "outputs": [
    {
     "name": "stdout",
     "output_type": "stream",
     "text": [
      "Overwriting mapper.py\n"
     ]
    }
   ],
   "source": [
    "%%writefile mapper.py\n",
    "#! /usr/bin/env python\n",
    "\n",
    "import sys\n",
    "\n",
    "##\n",
    "## Se usa una clase iterable para implementar el mapper.\n",
    "##\n",
    "\n",
    "class Mapper:\n",
    "    \n",
    "    def __init__(self, stream):\n",
    "        ## \n",
    "        ## almacena el flujo de entrada como una\n",
    "        ## variable del objeto\n",
    "        ##\n",
    "        self.stream = stream\n",
    "    \n",
    "    def emit(self, key, value):\n",
    "        ##\n",
    "        ## escribe al flujo estándar de salida\n",
    "        ##\n",
    "        sys.stdout.write(\"{}\\t{}\\n\".format(key, value))\n",
    "        \n",
    "        \n",
    "    def status(self, message):\n",
    "        ##\n",
    "        ## imprime un reporte en el flujo de error\n",
    "        ## no se debe usar el stdout, ya que en este \n",
    "        ## unicamente deben ir las parejas (key, value)\n",
    "        ##\n",
    "        sys.stderr.write('reporter:status:{}\\n'.format(message))\n",
    "\n",
    "        \n",
    "    def counter(self, counter, amount=1, group=\"ApplicationCounter\"):\n",
    "        ## \n",
    "        ## imprime el valor del contador\n",
    "        ##\n",
    "        sys.stderr.write('reporter:counter:{},{},{}\\n'.format(group, counter, amount))\n",
    "        \n",
    "    def map(self):\n",
    "\n",
    "        #word_counter = 0\n",
    "        for word in self:\n",
    "            self.emit(key=word[0], value=word[1])\n",
    "\n",
    "            \n",
    "    def __iter__(self):\n",
    "        ##\n",
    "        ## itera sobre cada linea de código recibida\n",
    "        ## a través del flujo de entrada\n",
    "        ##\n",
    "        try:\n",
    "            diccionario= dict(line.split() for line in self.stream)\n",
    "            for item in diccionario:\n",
    "                pares=diccionario[item].split(',')\n",
    "\n",
    "                for word in pares:\n",
    "                    yield word,item\n",
    "        except:\n",
    "            pass\n",
    "\n",
    "\n",
    "if __name__ == \"__main__\": \n",
    "    mapper = Mapper(sys.stdin)\n",
    "    \n",
    "    ##\n",
    "    ## ejecuta el mapper\n",
    "    ##\n",
    "    mapper.map()\n",
    "    pass"
   ]
  },
  {
   "cell_type": "markdown",
   "metadata": {},
   "source": [
    "## Reducer"
   ]
  },
  {
   "cell_type": "code",
   "execution_count": 3,
   "metadata": {},
   "outputs": [
    {
     "name": "stdout",
     "output_type": "stream",
     "text": [
      "Overwriting reducer.py\n"
     ]
    }
   ],
   "source": [
    "%%writefile reducer.py\n",
    "#!/usr/bin/env python\n",
    "\n",
    "import sys\n",
    "import itertools\n",
    "\n",
    "class Reducer:\n",
    "    \n",
    "    def __init__(self, stream):\n",
    "        self.stream = stream\n",
    "        \n",
    "    def emit(self, key, value):\n",
    "        sys.stdout.write(\"{} {}\\n\".format(key,value)) \n",
    "\n",
    "    def reduce(self):\n",
    "        ##\n",
    "        ## Esta función reduce los elementos que \n",
    "        ## tienen la misma clave\n",
    "        ## \n",
    "\n",
    "        diccionario={}\n",
    "        for key, group in itertools.groupby(self, lambda x: x[0]):\n",
    "            if str(key) not in diccionario:\n",
    "                diccionario.update({str(key):[]})\n",
    "            for _,val in group:\n",
    "                diccionario[key].append(val)\n",
    "        \n",
    "        for item in diccionario:\n",
    "            numeros=''\n",
    "            for numero in diccionario[item]:\n",
    "                if numeros =='':\n",
    "                    numeros=numeros+numero\n",
    "                else:\n",
    "                    numeros=numeros+','+numero\n",
    "            self.emit(key=item, value=numeros)\n",
    "                \n",
    "    def __iter__(self):\n",
    "        \n",
    "        for line in self.stream:\n",
    "            ##\n",
    "            ## Lee el stream de datos y lo parte \n",
    "            ## en (clave, valor)\n",
    "            ##\n",
    "            key, val= line.split(\"\\t\") \n",
    "           \n",
    "            ##\n",
    "            ## retorna la tupla (clave, valor)\n",
    "            ## como el siguiente elemento del ciclo for\n",
    "            ##\n",
    "            yield key, val.replace('\\n','')\n",
    "\n",
    "if __name__ == '__main__': \n",
    "    reducer = Reducer(sys.stdin)\n",
    "    reducer.reduce()\n",
    "    pass"
   ]
  },
  {
   "cell_type": "markdown",
   "metadata": {},
   "source": [
    "## Ejecución"
   ]
  },
  {
   "cell_type": "code",
   "execution_count": 4,
   "metadata": {},
   "outputs": [
    {
     "name": "stdout",
     "output_type": "stream",
     "text": [
      "A 1,18,26,21,10,7,0,12,25,8,27,13,14,15,24,29,16,28,23,9,17,5\t\n",
      "B 22,19,20,21,1,29,2,3,5,6,7,27,8,9,26,11,12,0,25,15,16,17,23,18,10\t\n",
      "C 0,29,28,25,23,22,21,20,17,15,14,12,11,10,9,7,6,5,4,3,1\t\n",
      "D 19,19,18,17,23,23,1,16,24,15,14,13,29,12,12,11,10,9,9,26,26,8,7,27,6,0,6,5,4,3,28,21,20,20,29\t\n",
      "F 18,25,6,20,9,0,1,23,11,8,24,27,28,17,21,19,13,29,26,12,22,7,15,2\t\n",
      "G 22,6,27,26,11,25,2,9,20,24,14,21,15,12,29,17,7,4\t\n",
      "H 25,12,1,11,10,26,0,2,20,27,7,22,6,18,23,17,5,28,4,24,15,29\t\n",
      "I 7,16,25,15,8,26,2,9,11,4,22,18,20,0,27,19,1\t\n"
     ]
    }
   ],
   "source": [
    "%%bash\n",
    "rm -rf output\n",
    "STREAM=$HADOOP_HOME/share/hadoop/tools/lib/hadoop-streaming-*.jar\n",
    "chmod +x mapper.py\n",
    "chmod +x reducer.py\n",
    "hadoop jar $STREAM -input input.txt -output output  -mapper mapper.py -reducer reducer.py\n",
    "cat output/part-00000"
   ]
  },
  {
   "cell_type": "code",
   "execution_count": null,
   "metadata": {},
   "outputs": [],
   "source": [
    "!rm -rf mapper.py reducer.py output input.txt"
   ]
  },
  {
   "cell_type": "markdown",
   "metadata": {},
   "source": [
    "---"
   ]
  },
  {
   "cell_type": "markdown",
   "metadata": {},
   "source": [
    "Para realizar la evaluación automática de este libro:\n",
    "\n",
    "* Abra un Terminal.\n",
    "* Asegurece que esat en la misma carpeta que contiene este notebook.\n",
    "* Salve el notebook.\n",
    "* Ejecute el siguiente comando:\n",
    "\n",
    "      ./gradetool 11-Taller.ipynb"
   ]
  },
  {
   "cell_type": "markdown",
   "metadata": {},
   "source": [
    "---"
   ]
  }
 ],
 "metadata": {
  "kernelspec": {
   "display_name": "Python [conda env:anaconda3]",
   "language": "python",
   "name": "conda-env-anaconda3-py"
  },
  "language_info": {
   "codemirror_mode": {
    "name": "ipython",
    "version": 3
   },
   "file_extension": ".py",
   "mimetype": "text/x-python",
   "name": "python",
   "nbconvert_exporter": "python",
   "pygments_lexer": "ipython3",
   "version": "3.7.0"
  },
  "toc": {
   "base_numbering": 1,
   "nav_menu": {},
   "number_sections": false,
   "sideBar": true,
   "skip_h1_title": true,
   "title_cell": "Table of Contents",
   "title_sidebar": "Contents",
   "toc_cell": false,
   "toc_position": {},
   "toc_section_display": true,
   "toc_window_display": true
  },
  "toc-autonumbering": false
 },
 "nbformat": 4,
 "nbformat_minor": 2
}
